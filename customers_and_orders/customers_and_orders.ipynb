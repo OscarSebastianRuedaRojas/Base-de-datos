{
  "cells": [
    {
      "cell_type": "markdown",
      "metadata": {
        "id": "piiX_CRNFYUi"
      },
      "source": [
        "# Technical Challenge ! Custiomers and Orders - The lifeblood of any business!\n",
        "\n",
        "This notebook depends on two data files: customers.scv and orders.csv. These files are hosted in the cloud (or Github), so for simplicity, we are providing you with the code to download and save the two files in a folder called 'sample_data' which lives within this notebook session (not on your local computer nor Google Drive).\n",
        "\n",
        "![sample_data folder in notebook session](https://raw.githubusercontent.com/anyoneai/notebooks/main/customers_and_orders/images/sample_data_folder.png)\n",
        "\n",
        "Please execute the first code snippet before moving to the rest of the exercise as this code will import the data from the files for you to be able to execute the rest of the exercise.\n",
        "\n",
        "Remember as we said in the previous lecture, you have to save this notebook into your Google Drive by going to menu File/Save a Copy In Drive, or clicking in the button \"Copy to Drive\". This way, you will not lose any work you've done and the file will persist with your latest changes in your Google Drive. Also we recommend you to rename your .ipynb in your Google Drive, so you can easily find it in the future."
      ]
    },
    {
      "cell_type": "code",
      "execution_count": 1,
      "metadata": {
        "colab": {
          "base_uri": "https://localhost:8080/"
        },
        "id": "MWpVO242FQHC",
        "outputId": "e92534ce-e99f-45d4-fe2a-a60e9cb33b4b"
      },
      "outputs": [
        {
          "output_type": "stream",
          "name": "stdout",
          "text": [
            "Customers and orders CSV files have been added './sample_data'\n"
          ]
        }
      ],
      "source": [
        "import requests\n",
        "\n",
        "def import_data_files():\n",
        "  r = requests.get('https://raw.githubusercontent.com/anyoneai/notebooks/main/customers_and_orders/data/customers.csv')\n",
        "  with open('./sample_data/customers.csv', 'wb') as f:\n",
        "    f.write(r.content)\n",
        "\n",
        "  r = requests.get('https://raw.githubusercontent.com/anyoneai/notebooks/main/customers_and_orders/data/orders.csv')\n",
        "  with open('./sample_data/orders.csv', 'wb') as f:\n",
        "    f.write(r.content)\n",
        "\n",
        "import_data_files()\n",
        "print(\"Customers and orders CSV files have been added './sample_data'\")"
      ]
    },
    {
      "cell_type": "markdown",
      "metadata": {
        "id": "JQAduY-RWKyB"
      },
      "source": [
        "# Exercise 1: Processing Customers data (difficulty medium)\n",
        "\n",
        "The sample customer data in 'customers.csv' file has just 5 columns: CustomerId, First Name, Last Name, City and State\n",
        "\n",
        "![Data sample](https://raw.githubusercontent.com/anyoneai/notebooks/main/customers_and_orders/images/customers.png)\n",
        "\n",
        "We strongly recommend that you complete from the [Prep Course: Intro to Python](https://colab.research.google.com/github/anyoneai/notebooks/blob/main/python3_crash_course.ipynb) the following section:\n",
        "- Section 7: File I/O (to understand how to read CSV file)\n",
        "- Section 6: For Loop (to navigate the contents of the CSV file)\n",
        "- Section 5: Tuples, Lists, and Dictionaries (to manipulate the data of the CSV file)\n",
        "\n",
        "With this, we hope you can complete this exercise successfully. Although if you want to solve this with libraries or any other way, you are welcome to do it your way.\n",
        "\n",
        "*Hint:* We advise you to take a look at the data before you start.\n",
        "**if you want to manually take a look at the data before you start, please see the content of the data [here](https://github.com/anyoneai/notebooks/blob/main/customers_and_orders/data/customers.csv).\n",
        "\n",
        "*Hint*: There are many ways to do this exercise you can do your own, although here's some help. You can solve this exercise reading and parsing CSV files, structuring data into dictionaries, and using for loops to navigate the contents\n",
        "\n",
        "*Hint*: Also, keep in mind that data might not be clean and you might have to figure out how to deal with that data from the code, without having to modify the data source.\n",
        "\n",
        "Below are the 5 questions you'll have to answer to pass the evaluation:"
      ]
    },
    {
      "cell_type": "markdown",
      "metadata": {
        "id": "kJq7S8sBfbOW"
      },
      "source": [
        "**Question 1:** How many customers are in the file?\n",
        "(as help, we have added some comments and starter code to help you structure the solution)"
      ]
    },
    {
      "cell_type": "code",
      "execution_count": 4,
      "metadata": {
        "colab": {
          "base_uri": "https://localhost:8080/"
        },
        "id": "oMnUFBFb2RUb",
        "outputId": "c24272cd-8b1f-4a01-e8d2-2e3dca9cd444"
      },
      "outputs": [
        {
          "output_type": "stream",
          "name": "stdout",
          "text": [
            "There are 602 customers in the file.\n",
            "All done!\n"
          ]
        }
      ],
      "source": [
        "from os.path import exists\n",
        "import csv\n",
        "\n",
        "# check if file can be found and open the file\n",
        "datafile = \"./sample_data/customers.csv\"\n",
        "if not exists(datafile):\n",
        "  raise SystemExit(\"You should run the first code cell and download the dataset files!\")\n",
        "\n",
        "customer_count = 0\n",
        "with open(datafile, 'r', encoding='utf-8') as fl:\n",
        "  csvreader = csv.reader(fl, delimiter=',')\n",
        "\n",
        "  next(csvreader)\n",
        "\n",
        "  for row in csvreader:\n",
        "        if row:\n",
        "            customer_count += 1\n",
        "\n",
        "  # loop through the rows and count etc. THE REST IS UP TO YOU!\n",
        "\n",
        "print(f\"There are {customer_count} customers in the file.\")\n",
        "print(\"All done!\")"
      ]
    },
    {
      "cell_type": "markdown",
      "metadata": {
        "id": "uffBnNgz_570"
      },
      "source": [
        "**Question 2:** In how many different states do the customers live in?"
      ]
    },
    {
      "cell_type": "code",
      "execution_count": 5,
      "metadata": {
        "id": "Bi_yid0sMe3-",
        "colab": {
          "base_uri": "https://localhost:8080/"
        },
        "outputId": "b9b4270d-94f4-4720-a295-ec5002b2a6fe"
      },
      "outputs": [
        {
          "output_type": "stream",
          "name": "stdout",
          "text": [
            "Customers live in 15 different state(s): {'NM', 'TX', 'NV', 'OR', 'CO', 'UT', 'Ca', 'MA', 'AZ', 'IN', 'WA', 'CA', 'NH', 'ID', 'FL'}\n"
          ]
        }
      ],
      "source": [
        "from os.path import exists\n",
        "import csv\n",
        "from collections import Counter\n",
        "\n",
        "datafile = \"./sample_data/customers.csv\"\n",
        "if not exists(datafile):\n",
        "    raise SystemExit(\"You should run the first code cell and download the dataset files!\")\n",
        "states = set()\n",
        "\n",
        "with open(datafile, 'r', encoding='utf-8') as fl:\n",
        "    csvreader = csv.reader(fl, delimiter=',')\n",
        "    next(csvreader)\n",
        "\n",
        "    for row in csvreader:\n",
        "        if row and len(row) >= 5:\n",
        "            state = row[4].strip()\n",
        "            if state:\n",
        "                states.add(state)\n",
        "\n",
        "print(f\"Customers live in {len(states)} different state(s): {states}\")"
      ]
    },
    {
      "cell_type": "markdown",
      "metadata": {
        "id": "DC59SZYiMfNY"
      },
      "source": [
        "**Question 3** What is the state with most customers?"
      ]
    },
    {
      "cell_type": "code",
      "execution_count": 6,
      "metadata": {
        "id": "tfGU3w-OMhA9",
        "colab": {
          "base_uri": "https://localhost:8080/"
        },
        "outputId": "f07db587-538b-4c47-cf0d-126fd68b1587"
      },
      "outputs": [
        {
          "output_type": "stream",
          "name": "stdout",
          "text": [
            "The state with the most customers is CA with 567 customers.\n"
          ]
        }
      ],
      "source": [
        "from os.path import exists\n",
        "import csv\n",
        "from collections import Counter\n",
        "\n",
        "datafile = \"./sample_data/customers.csv\"\n",
        "if not exists(datafile):\n",
        "    raise SystemExit(\"You should run the first code cell and download the dataset files!\")\n",
        "\n",
        "state_counts = Counter()\n",
        "\n",
        "with open(datafile, 'r', encoding='utf-8') as fl:\n",
        "    csvreader = csv.reader(fl, delimiter=',')\n",
        "    next(csvreader)  # Saltamos los encabezados\n",
        "\n",
        "    for row in csvreader:\n",
        "        if row and len(row) >= 5:\n",
        "            state = row[4].strip()\n",
        "            if state:\n",
        "                state_counts[state] += 1\n",
        "\n",
        "# Encontramos el estado con más clientes\n",
        "most_common_state = state_counts.most_common(1)\n",
        "\n",
        "if most_common_state:\n",
        "    state, count = most_common_state[0]\n",
        "    print(f\"The state with the most customers is {state} with {count} customers.\")\n",
        "else:\n",
        "    print(\"No valid state data found.\")\n"
      ]
    },
    {
      "cell_type": "markdown",
      "metadata": {
        "id": "7mcM6cUAMhLB"
      },
      "source": [
        "**Question 4** What is the state with the least customers?"
      ]
    },
    {
      "cell_type": "code",
      "execution_count": 21,
      "metadata": {
        "id": "8T0Ka2RqMi3P",
        "colab": {
          "base_uri": "https://localhost:8080/"
        },
        "outputId": "90dc7956-3d32-43ed-998f-aa1bb787d6ec"
      },
      "outputs": [
        {
          "output_type": "stream",
          "name": "stdout",
          "text": [
            "The state(s) with the least customers (1 customer(s)):\n",
            "- WA\n",
            "- NH\n",
            "- ID\n",
            "- OR\n",
            "- MA\n",
            "- IN\n"
          ]
        }
      ],
      "source": [
        "from os.path import exists\n",
        "import csv\n",
        "from collections import Counter\n",
        "\n",
        "datafile = \"./sample_data/customers.csv\"\n",
        "if not exists(datafile):\n",
        "    raise SystemExit(\"You should run the first code cell and download the dataset files!\")\n",
        "\n",
        "state_counts = Counter()\n",
        "\n",
        "with open(datafile, 'r', encoding='utf-8') as fl:\n",
        "    csvreader = csv.reader(fl, delimiter=',')\n",
        "    next(csvreader)  # Saltamos encabezados\n",
        "\n",
        "    for row in csvreader:\n",
        "        if row and len(row) >= 5:\n",
        "            state = row[4].strip()\n",
        "            if state:\n",
        "                state_counts[state] += 1\n",
        "\n",
        "if state_counts:\n",
        "    # Obtener el valor mínimo de clientes\n",
        "    min_count = min(state_counts.values())\n",
        "\n",
        "    # Listar todos los estados con ese mínimo\n",
        "    least_common_states = [state for state, count in state_counts.items() if count == min_count]\n",
        "\n",
        "    print(f\"The state(s) with the least customers ({min_count} customer(s)):\")\n",
        "    for state in least_common_states:\n",
        "        print(f\"- {state}\")\n",
        "else:\n",
        "    print(\"No valid state data found.\")\n"
      ]
    },
    {
      "cell_type": "markdown",
      "metadata": {
        "id": "h6fIy7hXHF6A"
      },
      "source": [
        "**Question 5:** What is the most common last name?"
      ]
    },
    {
      "cell_type": "code",
      "execution_count": 8,
      "metadata": {
        "id": "k8M1DmA75Km7",
        "colab": {
          "base_uri": "https://localhost:8080/"
        },
        "outputId": "90dffc04-e801-48ee-967e-80db172dcc1e"
      },
      "outputs": [
        {
          "output_type": "stream",
          "name": "stdout",
          "text": [
            "The most common last name is 'Smith' with 8 customers.\n"
          ]
        }
      ],
      "source": [
        "from os.path import exists\n",
        "import csv\n",
        "from collections import Counter\n",
        "\n",
        "datafile = \"./sample_data/customers.csv\"\n",
        "if not exists(datafile):\n",
        "    raise SystemExit(\"You should run the first code cell and download the dataset files!\")\n",
        "\n",
        "last_name_counts = Counter()\n",
        "\n",
        "with open(datafile, 'r', encoding='utf-8') as fl:\n",
        "    csvreader = csv.reader(fl, delimiter=',')\n",
        "    next(csvreader)  # saltamos encabezados\n",
        "\n",
        "    for row in csvreader:\n",
        "        if row and len(row) >= 3:\n",
        "            last_name = row[2].strip()\n",
        "            if last_name:\n",
        "                last_name_counts[last_name] += 1\n",
        "\n",
        "# Encontrar el apellido más común\n",
        "most_common_last_name = last_name_counts.most_common(1)\n",
        "\n",
        "if most_common_last_name:\n",
        "    name, count = most_common_last_name[0]\n",
        "    print(f\"The most common last name is '{name}' with {count} customers.\")\n",
        "else:\n",
        "    print(\"No last names found.\")\n"
      ]
    },
    {
      "cell_type": "markdown",
      "metadata": {
        "id": "YPRma1t9NoFk"
      },
      "source": [
        "# Exercise 2: Processing Orders data (difficulty high)\n",
        "\n",
        "The second sample files contains orders placed by customers from the first file. Be careful, this file has many rows and you most likely should not print the contents of the whole file.\n",
        "\n",
        "The file contains the following columns: CustomerID, OrderID, Date, OrderTotal, ProductName, Price\n",
        "\n",
        "![Data sample](https://raw.githubusercontent.com/anyoneai/notebooks/main/customers_and_orders/images/orders.png)\n",
        "\n",
        "*Hint:* We advise you to take a look at the data before you start.\n",
        "**if you want to manually take a look at the data before you start, please see the content of the data [here](https://raw.githubusercontent.com/anyoneai/notebooks/main/customers_and_orders/data/orders.csv).\n",
        "\n",
        "*Hint*: There are many ways to do this exercise you can do your own, although here's some help. You can solve this exercise reading and parsing CSV files, structuring data into dictionaries, and using for loops to navigate the contents\n",
        "\n",
        "*Hint*: Also, the data is not clean and you will have to figure out how to deal with that data from the code, without having to modify the data source.\n",
        "\n",
        "\n",
        "\n",
        "**Question #1:** How many unique orders are in the orders.csv file?\n",
        "\n",
        "**Question #2:** What is the average number of items per order (rounded to two decimal places)?\n",
        "\n",
        "**Question #3:** What is the highest number of items per order?\n",
        "\n",
        "**Question #4:** What is the number of orders placed in October 2021?\n",
        "\n",
        "**Question #5:** Which customer spent the most amount of money in 2021?\n",
        "\n",
        "**Question #6:** Historically, what is the best month for sales?\n",
        "\n",
        "Once you get your answers, remember to go back to the course and introduce them in the multiple choice quiz"
      ]
    },
    {
      "cell_type": "code",
      "execution_count": 10,
      "metadata": {
        "id": "8ipJTrfs5QVM"
      },
      "outputs": [],
      "source": [
        "from os.path import exists\n",
        "import csv\n",
        "from collections import defaultdict, Counter\n",
        "from datetime import datetime\n",
        "\n",
        "datafile = \"./sample_data/orders.csv\"\n",
        "if not exists(datafile):\n",
        "    raise SystemExit(\"You should run the first code cell and download the dataset files!\")\n",
        "\n",
        "orders = []\n",
        "\n",
        "with open(datafile, 'r', encoding='utf-8') as fl:\n",
        "    csvreader = csv.DictReader(fl)\n",
        "\n",
        "    for row in csvreader:\n",
        "        orders.append({\n",
        "            'CustomerID': row['CustomerID'].strip(),\n",
        "            'OrderID': row['OrderID'].strip(),\n",
        "            'Date': row['Date'].strip(),\n",
        "            'OrderTotal': row['OrderTotal'].strip(),\n",
        "            'ProductName': row['ProductName'].strip(),\n",
        "            'Price': row['Price'].strip()\n",
        "        })\n"
      ]
    },
    {
      "cell_type": "code",
      "source": [
        "unique_orders = set()\n",
        "for order in orders:\n",
        "    if order['OrderID']:\n",
        "        unique_orders.add(order['OrderID'])\n",
        "\n",
        "print(f\"Total unique orders: {len(unique_orders)}\")"
      ],
      "metadata": {
        "colab": {
          "base_uri": "https://localhost:8080/"
        },
        "id": "uRdHtP47AAuf",
        "outputId": "0027e56e-8b0f-46e8-b0f5-dc6d2bdda497"
      },
      "execution_count": 11,
      "outputs": [
        {
          "output_type": "stream",
          "name": "stdout",
          "text": [
            "Total unique orders: 16672\n"
          ]
        }
      ]
    },
    {
      "cell_type": "code",
      "source": [
        "from collections import defaultdict\n",
        "\n",
        "items_per_order = defaultdict(int)\n",
        "\n",
        "for order in orders:\n",
        "    order_id = order['OrderID']\n",
        "    if order_id:\n",
        "        items_per_order[order_id] += 1\n",
        "\n",
        "average_items = round(sum(items_per_order.values()) / len(items_per_order), 2)\n",
        "print(f\"Average number of items per order: {average_items}\")"
      ],
      "metadata": {
        "colab": {
          "base_uri": "https://localhost:8080/"
        },
        "id": "HSSFAVjtAI18",
        "outputId": "013bdb23-797d-4ae8-a1bb-cfb7ddaf555c"
      },
      "execution_count": 12,
      "outputs": [
        {
          "output_type": "stream",
          "name": "stdout",
          "text": [
            "Average number of items per order: 1.76\n"
          ]
        }
      ]
    },
    {
      "cell_type": "code",
      "source": [
        "max_items = max(items_per_order.values())\n",
        "print(f\"Highest number of items in a single order: {max_items}\")"
      ],
      "metadata": {
        "colab": {
          "base_uri": "https://localhost:8080/"
        },
        "id": "bCmQJ4QIAKRG",
        "outputId": "efd94531-e8c9-47e4-caf8-bcf74cd3659b"
      },
      "execution_count": 13,
      "outputs": [
        {
          "output_type": "stream",
          "name": "stdout",
          "text": [
            "Highest number of items in a single order: 35\n"
          ]
        }
      ]
    },
    {
      "cell_type": "code",
      "source": [
        "october_orders = set()\n",
        "\n",
        "for order in orders:\n",
        "    try:\n",
        "        date = datetime.strptime(order['Date'], \"%Y-%m-%d %H:%M:%S.%f\")\n",
        "        if date.year == 2021 and date.month == 10:\n",
        "            october_orders.add(order['OrderID'])\n",
        "    except:\n",
        "        continue\n",
        "\n",
        "print(f\"Orders placed in October 2021: {len(october_orders)}\")"
      ],
      "metadata": {
        "colab": {
          "base_uri": "https://localhost:8080/"
        },
        "id": "wBuPTNkRANx6",
        "outputId": "a706f68e-509f-4589-c13f-39ba088df6b4"
      },
      "execution_count": 19,
      "outputs": [
        {
          "output_type": "stream",
          "name": "stdout",
          "text": [
            "Orders placed in October 2021: 267\n"
          ]
        }
      ]
    },
    {
      "cell_type": "code",
      "source": [
        "from collections import defaultdict\n",
        "from datetime import datetime\n",
        "import csv\n",
        "import requests\n",
        "\n",
        "customer_spending = defaultdict(float)\n",
        "skipped = 0\n",
        "\n",
        "for order in orders:\n",
        "    try:\n",
        "        if not order['Date']:\n",
        "            continue\n",
        "        date = datetime.strptime(order['Date'], \"%Y-%m-%d %H:%M:%S.%f\")\n",
        "\n",
        "        if date.year == 2021:\n",
        "            customer_id = order['CustomerID'].strip()\n",
        "            if not customer_id:\n",
        "                continue\n",
        "\n",
        "            price = order.get('Price', '').strip()\n",
        "            if price:\n",
        "                try:\n",
        "                    customer_spending[customer_id] += float(price)\n",
        "                except ValueError:\n",
        "                    skipped += 1\n",
        "    except Exception:\n",
        "        skipped += 1\n",
        "\n",
        "if not customer_spending:\n",
        "    print(\"⚠️ No customer spending found in 2021.\")\n",
        "    print(f\"Skipped entries: {skipped}\")\n",
        "    raise SystemExit()\n",
        "\n",
        "top_customer_id, top_spent = max(customer_spending.items(), key=lambda x: x[1])\n",
        "\n",
        "customer_name = None\n",
        "with open(\"./sample_data/customers.csv\", 'r', encoding='utf-8') as fl:\n",
        "    csvreader = csv.DictReader(fl)\n",
        "    for row in csvreader:\n",
        "        if row['CustomerID'].strip() == top_customer_id:\n",
        "            first_name = row['FirstName'].strip()\n",
        "            last_name = row['LastName'].strip()\n",
        "            customer_name = f\"{first_name} {last_name}\"\n",
        "            break\n",
        "\n",
        "if customer_name:\n",
        "    print(f\"Top spender in 2021: {customer_name} (CustomerID: {top_customer_id}) with ${round(top_spent, 2)}\")\n",
        "else:\n",
        "    print(f\"CustomerID {top_customer_id} spent ${round(top_spent, 2)} in 2021, but name not found in customers.csv\")\n"
      ],
      "metadata": {
        "colab": {
          "base_uri": "https://localhost:8080/"
        },
        "id": "U8wiBVVcAQ32",
        "outputId": "d561637c-614d-451a-c87c-b801c801b8c7"
      },
      "execution_count": 28,
      "outputs": [
        {
          "output_type": "stream",
          "name": "stdout",
          "text": [
            "Top spender in 2021: Brandon Divas (CustomerID: 5172443) with $7675.0\n"
          ]
        }
      ]
    },
    {
      "cell_type": "code",
      "source": [
        "monthly_sales = defaultdict(float)\n",
        "seen_orders = set()\n",
        "\n",
        "for order in orders:\n",
        "    try:\n",
        "        date = datetime.strptime(order['Date'], \"%Y-%m-%d %H:%M:%S.%f\")\n",
        "        month_name = date.strftime(\"%B\")\n",
        "        order_id = order['OrderID']\n",
        "\n",
        "        if order['OrderTotal']:\n",
        "            if order_id not in seen_orders:\n",
        "                monthly_sales[month_name] += float(order['OrderTotal'])\n",
        "                seen_orders.add(order_id)\n",
        "        elif order['Price']:\n",
        "            monthly_sales[month_name] += float(order['Price'])\n",
        "    except:\n",
        "        continue\n",
        "\n",
        "best_month = max(monthly_sales.items(), key=lambda x: x[1])\n",
        "print(f\"📈 Best sales month overall: {best_month[0]} with ${round(best_month[1], 2)} in sales\")"
      ],
      "metadata": {
        "colab": {
          "base_uri": "https://localhost:8080/"
        },
        "id": "t_TWdT8vBE9U",
        "outputId": "77ac0ee3-ba95-4cd9-dd85-06e04737ea26"
      },
      "execution_count": 29,
      "outputs": [
        {
          "output_type": "stream",
          "name": "stdout",
          "text": [
            "📈 Best sales month overall: January with $292908.0 in sales\n"
          ]
        }
      ]
    },
    {
      "cell_type": "markdown",
      "metadata": {
        "id": "ie0JW4FAk6Os"
      },
      "source": [
        "# Finished!\n",
        "\n",
        "Hope this was not too difficult and slicing and dicing the datasets was some fun. Now head on back to the course and provide the answers to the questions from this exercise."
      ]
    }
  ],
  "metadata": {
    "colab": {
      "name": "customers_and_orders.ipynb",
      "provenance": []
    },
    "kernelspec": {
      "display_name": "Python 3 (ipykernel)",
      "language": "python",
      "name": "python3"
    },
    "language_info": {
      "codemirror_mode": {
        "name": "ipython",
        "version": 3
      },
      "file_extension": ".py",
      "mimetype": "text/x-python",
      "name": "python",
      "nbconvert_exporter": "python",
      "pygments_lexer": "ipython3",
      "version": "3.9.9"
    }
  },
  "nbformat": 4,
  "nbformat_minor": 0
}